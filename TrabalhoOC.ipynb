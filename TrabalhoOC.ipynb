{
 "cells": [
  {
   "cell_type": "markdown",
   "id": "7547b797",
   "metadata": {},
   "source": [
    "# Desenvolvimento de uma abordagem de um algoritmo genético.\n",
    "## Especificações:\n",
    "- Função que será usada: 2x³ - 13x + xy - 7(y/3);\n",
    "- Formato de codificação: Binária;\n",
    "- Modo de seleção: Ranking;\n",
    "- Modo de cruzamento: Uniforme; INFORMADO PELO USUARIO\n",
    "- Modo de mutação: Inversão Binária; INFORMADO PELO USUARIO\n",
    "- Elitismo: 1 Individuo por geração;\n",
    "- O TAMANHO DA POPULAÇÃO É DEFINIDO PELO USUARIO\n",
    "- O NUMERO DE GERAÇÕES É DEFINIDO PELO USUARIO"
   ]
  },
  {
   "cell_type": "markdown",
   "id": "8fab01f9",
   "metadata": {},
   "source": [
    "## Gráfico da função:\n",
    "![Gráfico da função](./imagemGraficoProf.jpg)"
   ]
  },
  {
   "cell_type": "markdown",
   "id": "8b20a9b4",
   "metadata": {},
   "source": [
    "## Sequência de passos:\n",
    "![Imagem que representa a sequência de passos.](./sequenciaPassos.jpg)"
   ]
  },
  {
   "cell_type": "markdown",
   "id": "37437a01",
   "metadata": {},
   "source": [
    "### Definindo algumas funções que serão usadas durante o código..."
   ]
  },
  {
   "cell_type": "code",
   "execution_count": 59,
   "id": "e73a3a6c",
   "metadata": {},
   "outputs": [],
   "source": [
    "#Importação da biblioteca que ira gerar o grafico no final do programa.\n",
    "import matplotlib as mpl\n",
    "from mpl_toolkits.mplot3d import Axes3D\n",
    "import random\n",
    "from tabulate import tabulate\n",
    "\n",
    "#Mascara do cruzamento\n",
    "masc = \"001010011101010\"\n",
    "\n",
    "#Definindo função que calcula o FITNESS de cada individuo\n",
    "def funcao(x, y):\n",
    "    x = binarioToFloat(x)\n",
    "    y = binarioToFloat(y)\n",
    "    return ((2*(x**3)) - (13*x) + (x*y) - (7*(y/3)))\n",
    "\n",
    "#Definindo função que irá converter float para binario do X e Y\n",
    "def floatToBinarioMagnetude(num):\n",
    "    #Verificar se o número é maior ou menor que zero\n",
    "    if num < 0:\n",
    "        sinal = '1'\n",
    "        num = -num\n",
    "    else:\n",
    "        sinal = '0'\n",
    "    #Convertendo parte inteira\n",
    "    parteInteira = bin(int(num))[2:]\n",
    "    parteInteira = parteInteira.zfill(4)\n",
    "    #converter a parte fracionaria em binario\n",
    "    parteFracionaria = ''\n",
    "    parteDecimal = num - int(num)\n",
    "    parteFracionaria = bin(int(parteDecimal * 1000))[2:]\n",
    "    parteFracionaria = parteFracionaria.zfill(10)\n",
    "    binario = parteInteira + parteFracionaria\n",
    "    return sinal + binario\n",
    "    \n",
    "#Definindo função que irá converter float para binario do Z\n",
    "def floatToBinarioMagnetudeZ(num):\n",
    "    #Verificar se o número é maior ou menor que zero\n",
    "    if num < 0:\n",
    "        sinal = '1'\n",
    "        num = -num\n",
    "    else:\n",
    "        sinal = '0'\n",
    "    #Convertendo parte inteira\n",
    "    parteInteira = bin(int(num))[2:]\n",
    "    parteInteira = parteInteira.zfill(13)\n",
    "    #Convertendo a parte fracionaria em binario\n",
    "    parteFracionaria = ''\n",
    "    parteDecimal = num - int(num)\n",
    "    parteFracionaria = bin(int(parteDecimal * 1000))[2:]\n",
    "    parteFracionaria = parteFracionaria.zfill(10)\n",
    "    binario = parteInteira + parteFracionaria\n",
    "    return sinal + binario\n",
    "    \n",
    "#Definindo função que ira converter binario para float X e Y\n",
    "def binarioToFloat(num):\n",
    "    sinal = int(str(num)[0])\n",
    "    parteInteira = int(str(num)[1:5], 2)\n",
    "    parteDecimal = (int(str(num)[5:16], 2))/1000\n",
    "    parteToda = parteInteira + parteDecimal\n",
    "    if sinal == 1:\n",
    "        parteToda = -parteToda\n",
    "    return parteToda\n",
    "\n",
    "#Definindo função que ira converter binario para float Z\n",
    "def binarioToFloatZ(num):\n",
    "    sinal = int(str(num)[0])\n",
    "    parteInteira = int(str(num)[1:14], 2)\n",
    "    parteDecimal = (int(str(num)[14:25], 2))/1000\n",
    "    parteToda = parteInteira + parteDecimal\n",
    "    if sinal == 1:\n",
    "        parteToda = -parteToda\n",
    "    return parteToda\n",
    "    \n",
    "#Criando uma struct que representará os individuos\n",
    "class Individuo:\n",
    "    def __init__(self, x, y, porc):\n",
    "        self.x = x\n",
    "        self.y = y\n",
    "        self.z = floatToBinarioMagnetudeZ(round(funcao(x, y), 3))\n",
    "        self.porc = porc\n",
    "    def setPorc(self, porc):\n",
    "        self.porc = porc"
   ]
  },
  {
   "cell_type": "markdown",
   "id": "d708270a",
   "metadata": {},
   "source": [
    "### Declarando nossa população que é do tipo indivíduo:"
   ]
  },
  {
   "cell_type": "code",
   "execution_count": 60,
   "id": "a90869ec",
   "metadata": {
    "scrolled": true
   },
   "outputs": [
    {
     "name": "stdout",
     "output_type": "stream",
     "text": [
      "\t\t\t\t\tx\t\t\t\t\ty\t\t\t\tfitness\n",
      "Individuo 1 :  110100100001101 \t\t 101100101000110 \t\t 100111101000001000110000\n",
      "Individuo 2 :  111011000000110 \t\t 000100010011101 \t\t 110010101111101110010101\n",
      "Individuo 3 :  110010010100111 \t\t 110010000111001 \t\t 100101001001010101011011\n",
      "Individuo 4 :  110000101101100 \t\t 111010110011110 \t\t 100011100101100000000101\n",
      "Individuo 5 :  101100000000110 \t\t 101010110000101 \t\t 100001001101100100010110\n",
      "Individuo 6 :  000100101100001 \t\t 000110100100101 \t\t 100000000001000111010101\n",
      "Individuo 7 :  111010000110011 \t\t 100110111111100 \t\t 110000011111100100011110\n",
      "Individuo 8 :  101010101011011 \t\t 101101110101100 \t\t 100000101101101110100100\n",
      "Individuo 9 :  011011010101110 \t\t 000101011000110 \t\t 010011011100111100100100\n",
      "Individuo 10 :  011101011000110 \t\t 110000111000110 \t\t 010111101101100010011110\n"
     ]
    }
   ],
   "source": [
    "populacao = []\n",
    "    \n",
    "try:\n",
    "    popSize = int(input(\"Qual será o tamanho dessa população?\\n[R]: \"))\n",
    "except ValueError:\n",
    "    print(\"Por favor, insira um caractere válido.\")\n",
    "    \n",
    "#Gerando a população do tamanho infomado pelo usuário\n",
    "cont = 0\n",
    "while cont < popSize:\n",
    "    valX = floatToBinarioMagnetude(round(random.uniform(-15, 15.001), 3))\n",
    "    valY = floatToBinarioMagnetude(round(random.uniform(-15, 15.001), 3))\n",
    "    populacao.append(Individuo(valX, valY, 0.0))\n",
    "    cont += 1\n",
    "print(\"\\t\\t\\t\\t\\tx\\t\\t\\t\\t\\ty\\t\\t\\t\\tfitness\")\n",
    "i = 1\n",
    "for individuo in populacao:\n",
    "    print(\"Individuo\", i,\": \", individuo.x, \"\\t\\t\", individuo.y, \"\\t\\t\", individuo.z)\n",
    "    i += 1\n"
   ]
  },
  {
   "cell_type": "markdown",
   "id": "83b76707",
   "metadata": {},
   "source": [
    "### Aqui acontecerá o 'rankeamento':"
   ]
  },
  {
   "cell_type": "code",
   "execution_count": 61,
   "id": "bf018e99",
   "metadata": {
    "scrolled": true
   },
   "outputs": [
    {
     "name": "stdout",
     "output_type": "stream",
     "text": [
      "Total :        24756.756\n",
      "Individuo 1 :  7.89\n",
      "Individuo 2 :  19.38\n",
      "Individuo 3 :  5.32\n",
      "Individuo 4 :  3.71\n",
      "Individuo 5 :  1.25\n",
      "Individuo 6 :  0.02\n",
      "Individuo 7 :  17.06\n",
      "Individuo 8 :  0.74\n",
      "Individuo 9 :  20.11\n",
      "Individuo 10 :  24.52\n"
     ]
    }
   ],
   "source": [
    "def rankeamento():    \n",
    "    allZ = []\n",
    "    #Primeiro agrupei todos os nossos fitness em uma lista\n",
    "    for individuo in populacao:\n",
    "        allZ.append(abs(binarioToFloatZ(individuo.z)))\n",
    "    #Em seguida somei todos os valores\n",
    "    totZ = sum(allZ)\n",
    "    print(\"Total :       \", totZ)\n",
    "    #E calculei a taxa de seleção de cada individuo\n",
    "    i = 1\n",
    "    for individuo in populacao:\n",
    "        individuo.setPorc(round(abs((binarioToFloatZ(individuo.z)) * 100)/totZ, 2))\n",
    "        print(\"Individuo\", i, \": \",individuo.porc)\n",
    "        i += 1\n",
    "rankeamento()"
   ]
  },
  {
   "cell_type": "markdown",
   "id": "a5ca2c0e",
   "metadata": {},
   "source": [
    "### Aqui acontecerá a seleção:"
   ]
  },
  {
   "cell_type": "code",
   "execution_count": 62,
   "id": "8949b4f9",
   "metadata": {},
   "outputs": [
    {
     "name": "stdout",
     "output_type": "stream",
     "text": [
      "Pai 1 :  24.52\n",
      "Pai 2 :  20.11\n"
     ]
    }
   ],
   "source": [
    "def selecao():    \n",
    "    pai1 = 0.0\n",
    "    pai2 = 0.0\n",
    "    for individuo in populacao:\n",
    "        if individuo.porc > pai1:\n",
    "            pai1 = individuo.porc\n",
    "    for individuo in populacao:\n",
    "        if individuo.porc > pai2 and pai1 != individuo.porc:\n",
    "            pai2 = individuo.porc\n",
    "    return pai1, pai2\n",
    "        \n",
    "    \n",
    "print(\"Pai 1 : \", selecao()[0])\n",
    "print(\"Pai 2 : \", selecao()[1])"
   ]
  },
  {
   "cell_type": "markdown",
   "id": "c9f4329f",
   "metadata": {},
   "source": [
    "### Aqui acontecerá a mutação:"
   ]
  },
  {
   "cell_type": "code",
   "execution_count": 63,
   "id": "e3a9f87a",
   "metadata": {},
   "outputs": [],
   "source": [
    "def mutacao(filho):\n",
    "    x = random.randint(1,101)\n",
    "    y = random.randint(1,101)\n",
    "    listx = list(filho.x)\n",
    "    listy = list(filho.y)\n",
    "    if x < 5:\n",
    "        bit = random.randint(0, 15)\n",
    "        if listx[bit] == '0':\n",
    "            listx[bit] = '1'\n",
    "            print(' mudou o x de 0 para 1')\n",
    "        elif listx[bit] == '1':\n",
    "            listx[bit] = '0'\n",
    "            print(' mudou o x de 1 para 0')\n",
    "    if y < 5:\n",
    "        bit = random.randint(0, 15)\n",
    "        if listy[bit] == '0':\n",
    "            listy[bit] = '1'\n",
    "            print(' mudou o y de 0 para 1')\n",
    "        elif listy[bit] == '1':\n",
    "            listy[bit] = '0'\n",
    "            print(' mudou o y de 1 para 0')\n",
    "    filho.x = \"\".join(listx)\n",
    "    filho.y = \"\".join(listy)\n",
    "    print(\"Filho : \", filho.x, filho.y)\n"
   ]
  },
  {
   "cell_type": "markdown",
   "id": "e317eebf",
   "metadata": {},
   "source": [
    "### Aqui acontecerá o cruzamento:"
   ]
  },
  {
   "cell_type": "code",
   "execution_count": 64,
   "id": "ec4a014d",
   "metadata": {
    "scrolled": true
   },
   "outputs": [
    {
     "name": "stdout",
     "output_type": "stream",
     "text": [
      "\t\tx\t\ty\n",
      "Pai 1 :  011101011000110 110000111000110\n",
      "Pai 2 :  011011010101110 000101011000110\n",
      "Filho :  011111010101110 110000111000110\n"
     ]
    }
   ],
   "source": [
    "def cruzamento():\n",
    "    ind = 0\n",
    "    x = []\n",
    "    y = []\n",
    "    filhox = \"\"\n",
    "    filhoy = \"\"\n",
    "    for individuo in populacao:\n",
    "        if individuo.porc == selecao()[0]:\n",
    "            pai0 = individuo\n",
    "        if individuo.porc == selecao()[1]:\n",
    "            pai1 = individuo\n",
    "    print(\"\\t\\tx\\t\\ty\")\n",
    "    print(\"Pai 1 : \", pai0.x, pai0.y)\n",
    "    print(\"Pai 2 : \", pai1.x, pai1.y)\n",
    "    while ind < len(masc):\n",
    "        if masc[ind] == '0':\n",
    "            x.append(pai0.x[ind])\n",
    "            y.append(pai0.y[ind])\n",
    "        elif masc[ind] == '1':\n",
    "            x.append(pai1.x[ind])\n",
    "            y.append(pai1.y[ind])\n",
    "        ind += 1\n",
    "    for i in x:\n",
    "        filhox += i\n",
    "    for i in y:\n",
    "        filhoy += i\n",
    "    filho = Individuo(filhox, filhoy, 0.0)\n",
    "    mutacao(filho)\n",
    "cruzamento()"
   ]
  },
  {
   "cell_type": "markdown",
   "id": "a97d2921",
   "metadata": {},
   "source": [
    "### Aqui vai ficar o elitismo"
   ]
  },
  {
   "cell_type": "code",
   "execution_count": 65,
   "id": "71f207e8",
   "metadata": {},
   "outputs": [
    {
     "name": "stdout",
     "output_type": "stream",
     "text": [
      "7.89\n",
      "19.38\n",
      "5.32\n",
      "3.71\n",
      "1.25\n",
      "0.02\n",
      "17.06\n",
      "0.74\n",
      "20.11\n",
      "24.52\n",
      "\n",
      "\n",
      "7.89\n",
      "19.38\n",
      "5.32\n",
      "3.71\n",
      "1.25\n",
      "0.02\n",
      "17.06\n",
      "0.74\n",
      "20.11\n",
      "\n",
      "\n",
      "24.52\n"
     ]
    }
   ],
   "source": [
    "elite = Individuo(floatToBinarioMagnetude(0.0), floatToBinarioMagnetude(0.0), floatToBinarioMagnetude(0.0))\n",
    "ind = 0\n",
    "\n",
    "for individuo in populacao:\n",
    "    print(individuo.porc)\n",
    "print(\"\\n\")\n",
    "\n",
    "for individuo in populacao:\n",
    "    if int(individuo.porc*100) > int(elite.porc*100):\n",
    "        elite = individuo\n",
    "\n",
    "elite = populacao.pop(populacao.index(elite))\n",
    "\n",
    "for individuo in populacao:\n",
    "    print(individuo.porc)\n",
    "print(\"\\n\")\n",
    "\n",
    "print(elite.porc)"
   ]
  },
  {
   "cell_type": "markdown",
   "id": "96141036",
   "metadata": {},
   "source": [
    "### Aqui será as proximas gerações:"
   ]
  },
  {
   "cell_type": "code",
   "execution_count": 66,
   "id": "86b780c7",
   "metadata": {},
   "outputs": [],
   "source": [
    "try:\n",
    "    quantPop = int(input(\"Quantas gerações terão?\\n[R]: \"))\n",
    "except ValueError:\n",
    "    print(\"Por favor, insira um caractere válido.\")"
   ]
  },
  {
   "cell_type": "code",
   "execution_count": null,
   "id": "373fa5e9",
   "metadata": {},
   "outputs": [],
   "source": [
    "# plotar grafico media de fitness de gerações\n",
    "\n",
    "# plotar grafico mostrar a população gráfico 3D\n",
    "\n",
    "# esquema de gerações (for)"
   ]
  }
 ],
 "metadata": {
  "kernelspec": {
   "display_name": "Python 3 (ipykernel)",
   "language": "python",
   "name": "python3"
  },
  "language_info": {
   "codemirror_mode": {
    "name": "ipython",
    "version": 3
   },
   "file_extension": ".py",
   "mimetype": "text/x-python",
   "name": "python",
   "nbconvert_exporter": "python",
   "pygments_lexer": "ipython3",
   "version": "3.12.3"
  }
 },
 "nbformat": 4,
 "nbformat_minor": 5
}
